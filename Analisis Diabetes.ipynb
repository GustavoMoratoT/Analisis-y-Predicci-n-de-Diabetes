{
 "cells": [
  {
   "cell_type": "code",
   "execution_count": 1,
   "id": "7f506798",
   "metadata": {},
   "outputs": [],
   "source": [
    "import pandas as pd\n",
    "import numpy as np\n",
    "import matplotlib.pyplot as plt"
   ]
  },
  {
   "cell_type": "markdown",
   "id": "8044f332",
   "metadata": {},
   "source": [
    "## Base de Datos de Kaggle, para el analisis y modelo \"Diabetes\""
   ]
  },
  {
   "cell_type": "code",
   "execution_count": 2,
   "id": "bcbe3dcb",
   "metadata": {},
   "outputs": [
    {
     "data": {
      "text/html": [
       "<div>\n",
       "<style scoped>\n",
       "    .dataframe tbody tr th:only-of-type {\n",
       "        vertical-align: middle;\n",
       "    }\n",
       "\n",
       "    .dataframe tbody tr th {\n",
       "        vertical-align: top;\n",
       "    }\n",
       "\n",
       "    .dataframe thead th {\n",
       "        text-align: right;\n",
       "    }\n",
       "</style>\n",
       "<table border=\"1\" class=\"dataframe\">\n",
       "  <thead>\n",
       "    <tr style=\"text-align: right;\">\n",
       "      <th></th>\n",
       "      <th>embarazos</th>\n",
       "      <th>glucosa</th>\n",
       "      <th>presionArterial</th>\n",
       "      <th>grosor_de_la_peil</th>\n",
       "      <th>insulina</th>\n",
       "      <th>BMI</th>\n",
       "      <th>FuncionPedigreeDiabetes</th>\n",
       "      <th>edad</th>\n",
       "      <th>resultado</th>\n",
       "    </tr>\n",
       "  </thead>\n",
       "  <tbody>\n",
       "    <tr>\n",
       "      <th>0</th>\n",
       "      <td>6</td>\n",
       "      <td>148</td>\n",
       "      <td>72</td>\n",
       "      <td>35</td>\n",
       "      <td>0</td>\n",
       "      <td>33.6</td>\n",
       "      <td>0.627</td>\n",
       "      <td>50</td>\n",
       "      <td>1</td>\n",
       "    </tr>\n",
       "    <tr>\n",
       "      <th>1</th>\n",
       "      <td>1</td>\n",
       "      <td>85</td>\n",
       "      <td>66</td>\n",
       "      <td>29</td>\n",
       "      <td>0</td>\n",
       "      <td>26.6</td>\n",
       "      <td>0.351</td>\n",
       "      <td>31</td>\n",
       "      <td>0</td>\n",
       "    </tr>\n",
       "    <tr>\n",
       "      <th>2</th>\n",
       "      <td>8</td>\n",
       "      <td>183</td>\n",
       "      <td>64</td>\n",
       "      <td>0</td>\n",
       "      <td>0</td>\n",
       "      <td>23.3</td>\n",
       "      <td>0.672</td>\n",
       "      <td>32</td>\n",
       "      <td>1</td>\n",
       "    </tr>\n",
       "    <tr>\n",
       "      <th>3</th>\n",
       "      <td>1</td>\n",
       "      <td>89</td>\n",
       "      <td>66</td>\n",
       "      <td>23</td>\n",
       "      <td>94</td>\n",
       "      <td>28.1</td>\n",
       "      <td>0.167</td>\n",
       "      <td>21</td>\n",
       "      <td>0</td>\n",
       "    </tr>\n",
       "    <tr>\n",
       "      <th>4</th>\n",
       "      <td>0</td>\n",
       "      <td>137</td>\n",
       "      <td>40</td>\n",
       "      <td>35</td>\n",
       "      <td>168</td>\n",
       "      <td>43.1</td>\n",
       "      <td>2.288</td>\n",
       "      <td>33</td>\n",
       "      <td>1</td>\n",
       "    </tr>\n",
       "    <tr>\n",
       "      <th>...</th>\n",
       "      <td>...</td>\n",
       "      <td>...</td>\n",
       "      <td>...</td>\n",
       "      <td>...</td>\n",
       "      <td>...</td>\n",
       "      <td>...</td>\n",
       "      <td>...</td>\n",
       "      <td>...</td>\n",
       "      <td>...</td>\n",
       "    </tr>\n",
       "    <tr>\n",
       "      <th>763</th>\n",
       "      <td>10</td>\n",
       "      <td>101</td>\n",
       "      <td>76</td>\n",
       "      <td>48</td>\n",
       "      <td>180</td>\n",
       "      <td>32.9</td>\n",
       "      <td>0.171</td>\n",
       "      <td>63</td>\n",
       "      <td>0</td>\n",
       "    </tr>\n",
       "    <tr>\n",
       "      <th>764</th>\n",
       "      <td>2</td>\n",
       "      <td>122</td>\n",
       "      <td>70</td>\n",
       "      <td>27</td>\n",
       "      <td>0</td>\n",
       "      <td>36.8</td>\n",
       "      <td>0.340</td>\n",
       "      <td>27</td>\n",
       "      <td>0</td>\n",
       "    </tr>\n",
       "    <tr>\n",
       "      <th>765</th>\n",
       "      <td>5</td>\n",
       "      <td>121</td>\n",
       "      <td>72</td>\n",
       "      <td>23</td>\n",
       "      <td>112</td>\n",
       "      <td>26.2</td>\n",
       "      <td>0.245</td>\n",
       "      <td>30</td>\n",
       "      <td>0</td>\n",
       "    </tr>\n",
       "    <tr>\n",
       "      <th>766</th>\n",
       "      <td>1</td>\n",
       "      <td>126</td>\n",
       "      <td>60</td>\n",
       "      <td>0</td>\n",
       "      <td>0</td>\n",
       "      <td>30.1</td>\n",
       "      <td>0.349</td>\n",
       "      <td>47</td>\n",
       "      <td>1</td>\n",
       "    </tr>\n",
       "    <tr>\n",
       "      <th>767</th>\n",
       "      <td>1</td>\n",
       "      <td>93</td>\n",
       "      <td>70</td>\n",
       "      <td>31</td>\n",
       "      <td>0</td>\n",
       "      <td>30.4</td>\n",
       "      <td>0.315</td>\n",
       "      <td>23</td>\n",
       "      <td>0</td>\n",
       "    </tr>\n",
       "  </tbody>\n",
       "</table>\n",
       "<p>768 rows × 9 columns</p>\n",
       "</div>"
      ],
      "text/plain": [
       "     embarazos  glucosa  presionArterial  grosor_de_la_peil  insulina   BMI  \\\n",
       "0            6      148               72                 35         0  33.6   \n",
       "1            1       85               66                 29         0  26.6   \n",
       "2            8      183               64                  0         0  23.3   \n",
       "3            1       89               66                 23        94  28.1   \n",
       "4            0      137               40                 35       168  43.1   \n",
       "..         ...      ...              ...                ...       ...   ...   \n",
       "763         10      101               76                 48       180  32.9   \n",
       "764          2      122               70                 27         0  36.8   \n",
       "765          5      121               72                 23       112  26.2   \n",
       "766          1      126               60                  0         0  30.1   \n",
       "767          1       93               70                 31         0  30.4   \n",
       "\n",
       "     FuncionPedigreeDiabetes  edad  resultado  \n",
       "0                      0.627    50          1  \n",
       "1                      0.351    31          0  \n",
       "2                      0.672    32          1  \n",
       "3                      0.167    21          0  \n",
       "4                      2.288    33          1  \n",
       "..                       ...   ...        ...  \n",
       "763                    0.171    63          0  \n",
       "764                    0.340    27          0  \n",
       "765                    0.245    30          0  \n",
       "766                    0.349    47          1  \n",
       "767                    0.315    23          0  \n",
       "\n",
       "[768 rows x 9 columns]"
      ]
     },
     "execution_count": 2,
     "metadata": {},
     "output_type": "execute_result"
    }
   ],
   "source": [
    "# IMPORTAMOS NUESTRO DATAFRAME DE DIABETES, RECORDAR QUE LA VARIABLE \"RESULTADO\" TIENE SI=1 Y NO=0\n",
    "df = pd.read_csv(r\"C:\\Users\\GUSTAVO\\Desktop\\GustavoALL\\Cursos\\01_ Bases de datos para Practicar\\Diabetes\\diabetes.csv\")\n",
    "df"
   ]
  },
  {
   "cell_type": "code",
   "execution_count": 3,
   "id": "22ec61cc",
   "metadata": {},
   "outputs": [
    {
     "data": {
      "text/html": [
       "<div>\n",
       "<style scoped>\n",
       "    .dataframe tbody tr th:only-of-type {\n",
       "        vertical-align: middle;\n",
       "    }\n",
       "\n",
       "    .dataframe tbody tr th {\n",
       "        vertical-align: top;\n",
       "    }\n",
       "\n",
       "    .dataframe thead th {\n",
       "        text-align: right;\n",
       "    }\n",
       "</style>\n",
       "<table border=\"1\" class=\"dataframe\">\n",
       "  <thead>\n",
       "    <tr style=\"text-align: right;\">\n",
       "      <th></th>\n",
       "      <th>embarazos</th>\n",
       "      <th>glucosa</th>\n",
       "      <th>presionArterial</th>\n",
       "      <th>grosor_de_la_peil</th>\n",
       "      <th>insulina</th>\n",
       "      <th>BMI</th>\n",
       "      <th>FuncionPedigreeDiabetes</th>\n",
       "      <th>edad</th>\n",
       "      <th>resultado</th>\n",
       "    </tr>\n",
       "  </thead>\n",
       "  <tbody>\n",
       "    <tr>\n",
       "      <th>count</th>\n",
       "      <td>768.000000</td>\n",
       "      <td>768.000000</td>\n",
       "      <td>768.000000</td>\n",
       "      <td>768.000000</td>\n",
       "      <td>768.000000</td>\n",
       "      <td>768.000000</td>\n",
       "      <td>768.000000</td>\n",
       "      <td>768.000000</td>\n",
       "      <td>768.000000</td>\n",
       "    </tr>\n",
       "    <tr>\n",
       "      <th>mean</th>\n",
       "      <td>3.845052</td>\n",
       "      <td>120.894531</td>\n",
       "      <td>69.105469</td>\n",
       "      <td>20.536458</td>\n",
       "      <td>79.799479</td>\n",
       "      <td>31.992578</td>\n",
       "      <td>0.471876</td>\n",
       "      <td>33.240885</td>\n",
       "      <td>0.348958</td>\n",
       "    </tr>\n",
       "    <tr>\n",
       "      <th>std</th>\n",
       "      <td>3.369578</td>\n",
       "      <td>31.972618</td>\n",
       "      <td>19.355807</td>\n",
       "      <td>15.952218</td>\n",
       "      <td>115.244002</td>\n",
       "      <td>7.884160</td>\n",
       "      <td>0.331329</td>\n",
       "      <td>11.760232</td>\n",
       "      <td>0.476951</td>\n",
       "    </tr>\n",
       "    <tr>\n",
       "      <th>min</th>\n",
       "      <td>0.000000</td>\n",
       "      <td>0.000000</td>\n",
       "      <td>0.000000</td>\n",
       "      <td>0.000000</td>\n",
       "      <td>0.000000</td>\n",
       "      <td>0.000000</td>\n",
       "      <td>0.078000</td>\n",
       "      <td>21.000000</td>\n",
       "      <td>0.000000</td>\n",
       "    </tr>\n",
       "    <tr>\n",
       "      <th>25%</th>\n",
       "      <td>1.000000</td>\n",
       "      <td>99.000000</td>\n",
       "      <td>62.000000</td>\n",
       "      <td>0.000000</td>\n",
       "      <td>0.000000</td>\n",
       "      <td>27.300000</td>\n",
       "      <td>0.243750</td>\n",
       "      <td>24.000000</td>\n",
       "      <td>0.000000</td>\n",
       "    </tr>\n",
       "    <tr>\n",
       "      <th>50%</th>\n",
       "      <td>3.000000</td>\n",
       "      <td>117.000000</td>\n",
       "      <td>72.000000</td>\n",
       "      <td>23.000000</td>\n",
       "      <td>30.500000</td>\n",
       "      <td>32.000000</td>\n",
       "      <td>0.372500</td>\n",
       "      <td>29.000000</td>\n",
       "      <td>0.000000</td>\n",
       "    </tr>\n",
       "    <tr>\n",
       "      <th>75%</th>\n",
       "      <td>6.000000</td>\n",
       "      <td>140.250000</td>\n",
       "      <td>80.000000</td>\n",
       "      <td>32.000000</td>\n",
       "      <td>127.250000</td>\n",
       "      <td>36.600000</td>\n",
       "      <td>0.626250</td>\n",
       "      <td>41.000000</td>\n",
       "      <td>1.000000</td>\n",
       "    </tr>\n",
       "    <tr>\n",
       "      <th>max</th>\n",
       "      <td>17.000000</td>\n",
       "      <td>199.000000</td>\n",
       "      <td>122.000000</td>\n",
       "      <td>99.000000</td>\n",
       "      <td>846.000000</td>\n",
       "      <td>67.100000</td>\n",
       "      <td>2.420000</td>\n",
       "      <td>81.000000</td>\n",
       "      <td>1.000000</td>\n",
       "    </tr>\n",
       "  </tbody>\n",
       "</table>\n",
       "</div>"
      ],
      "text/plain": [
       "        embarazos     glucosa  presionArterial  grosor_de_la_peil    insulina  \\\n",
       "count  768.000000  768.000000       768.000000         768.000000  768.000000   \n",
       "mean     3.845052  120.894531        69.105469          20.536458   79.799479   \n",
       "std      3.369578   31.972618        19.355807          15.952218  115.244002   \n",
       "min      0.000000    0.000000         0.000000           0.000000    0.000000   \n",
       "25%      1.000000   99.000000        62.000000           0.000000    0.000000   \n",
       "50%      3.000000  117.000000        72.000000          23.000000   30.500000   \n",
       "75%      6.000000  140.250000        80.000000          32.000000  127.250000   \n",
       "max     17.000000  199.000000       122.000000          99.000000  846.000000   \n",
       "\n",
       "              BMI  FuncionPedigreeDiabetes        edad   resultado  \n",
       "count  768.000000               768.000000  768.000000  768.000000  \n",
       "mean    31.992578                 0.471876   33.240885    0.348958  \n",
       "std      7.884160                 0.331329   11.760232    0.476951  \n",
       "min      0.000000                 0.078000   21.000000    0.000000  \n",
       "25%     27.300000                 0.243750   24.000000    0.000000  \n",
       "50%     32.000000                 0.372500   29.000000    0.000000  \n",
       "75%     36.600000                 0.626250   41.000000    1.000000  \n",
       "max     67.100000                 2.420000   81.000000    1.000000  "
      ]
     },
     "execution_count": 3,
     "metadata": {},
     "output_type": "execute_result"
    }
   ],
   "source": [
    "df.describe()"
   ]
  },
  {
   "cell_type": "markdown",
   "id": "1682a47d",
   "metadata": {},
   "source": [
    "1.- Es posible tenes Glucosa=0? Cual seria el valor minimo de este y su maximo que se puede presentar.\n",
    "2.- Es posible tenes Presion Arterial=0? Cual seria el valor minimo de este y su maximo que se puede presentar.\n",
    "3.- Es posible tenes Insulina=0? Cual seria el valor minimo de este y su maximo que se puede presentar.\n",
    "4.- Es posible tenes IMC=0? Cual seria el valor minimo de este y su maximo que se puede presentar.\n",
    "\n",
    "1- no es posible 0 : lo normal 70-100 mg/dl\n",
    "2. No es posible 0: lo normal 80_120 \n",
    "3. No es posible 0: 60 _ 100 mg/dl \n",
    "4. No es posible 0 lo ideal oscila entre 18.5 y 24.9 dentro de un peso normal varía un poco entre hombres y mujeres"
   ]
  },
  {
   "cell_type": "markdown",
   "id": "2309a8e8",
   "metadata": {},
   "source": [
    "**Limpiando el DataFrame**"
   ]
  },
  {
   "cell_type": "markdown",
   "id": "93ff9ec0",
   "metadata": {},
   "source": [
    "Primeramente, nuestro Dataframe tiene valores de 0 en la columna Glucosa, lo cual es imposible tener, por lo que se eliminará estas filas."
   ]
  },
  {
   "cell_type": "code",
   "execution_count": 4,
   "id": "f2aa8c3e",
   "metadata": {},
   "outputs": [
    {
     "data": {
      "text/plain": [
       "(763, 9)"
      ]
     },
     "execution_count": 4,
     "metadata": {},
     "output_type": "execute_result"
    }
   ],
   "source": [
    "df1 = df[ ( df[\"glucosa\"]!=0)]\n",
    "df1.shape"
   ]
  },
  {
   "cell_type": "markdown",
   "id": "60b31bc9",
   "metadata": {},
   "source": [
    "Segundo, nuestro Dataframe tiene valores de 0 en la columna Presion arterial, lo cual es imposible tener, por lo que se eliminará estas filas."
   ]
  },
  {
   "cell_type": "code",
   "execution_count": 5,
   "id": "1c18257c",
   "metadata": {},
   "outputs": [
    {
     "data": {
      "text/plain": [
       "(728, 9)"
      ]
     },
     "execution_count": 5,
     "metadata": {},
     "output_type": "execute_result"
    }
   ],
   "source": [
    "df2 = df1[ ( df1[\"presionArterial\"]!=0)]\n",
    "df2.shape"
   ]
  },
  {
   "cell_type": "markdown",
   "id": "0675728e",
   "metadata": {},
   "source": [
    "Segundo, nuestro Dataframe tiene valores de 0 en la columna Insulina, lo cual es imposible tener, por lo que se eliminará estas filas."
   ]
  },
  {
   "cell_type": "code",
   "execution_count": 6,
   "id": "6d9168fd",
   "metadata": {},
   "outputs": [
    {
     "data": {
      "text/plain": [
       "(393, 9)"
      ]
     },
     "execution_count": 6,
     "metadata": {},
     "output_type": "execute_result"
    }
   ],
   "source": [
    "df3 = df2[ ( df2[\"insulina\"]!=0)]\n",
    "df3.shape"
   ]
  },
  {
   "cell_type": "markdown",
   "id": "d80dd1c4",
   "metadata": {},
   "source": [
    "Por ultimo limpiamos el IMC y el grosor de la piel, que no pueden ser iguales a 0"
   ]
  },
  {
   "cell_type": "code",
   "execution_count": 7,
   "id": "387b61ac",
   "metadata": {},
   "outputs": [
    {
     "data": {
      "text/plain": [
       "(392, 9)"
      ]
     },
     "execution_count": 7,
     "metadata": {},
     "output_type": "execute_result"
    }
   ],
   "source": [
    "df4 = df3[ ( df3[\"BMI\"]!=0)]\n",
    "df5 = df4[ ( df4[\"grosor_de_la_peil\"]!=0)]\n",
    "df5.shape"
   ]
  },
  {
   "cell_type": "markdown",
   "id": "104c600d",
   "metadata": {},
   "source": [
    "Y realizamos un cuadro con las estadisticas descriptivas de nuestro DataFrame"
   ]
  },
  {
   "cell_type": "code",
   "execution_count": 8,
   "id": "b180fa20",
   "metadata": {},
   "outputs": [
    {
     "data": {
      "text/html": [
       "<div>\n",
       "<style scoped>\n",
       "    .dataframe tbody tr th:only-of-type {\n",
       "        vertical-align: middle;\n",
       "    }\n",
       "\n",
       "    .dataframe tbody tr th {\n",
       "        vertical-align: top;\n",
       "    }\n",
       "\n",
       "    .dataframe thead th {\n",
       "        text-align: right;\n",
       "    }\n",
       "</style>\n",
       "<table border=\"1\" class=\"dataframe\">\n",
       "  <thead>\n",
       "    <tr style=\"text-align: right;\">\n",
       "      <th></th>\n",
       "      <th>embarazos</th>\n",
       "      <th>glucosa</th>\n",
       "      <th>presionArterial</th>\n",
       "      <th>grosor_de_la_peil</th>\n",
       "      <th>insulina</th>\n",
       "      <th>BMI</th>\n",
       "      <th>FuncionPedigreeDiabetes</th>\n",
       "      <th>edad</th>\n",
       "      <th>resultado</th>\n",
       "    </tr>\n",
       "  </thead>\n",
       "  <tbody>\n",
       "    <tr>\n",
       "      <th>count</th>\n",
       "      <td>392.000000</td>\n",
       "      <td>392.000000</td>\n",
       "      <td>392.000000</td>\n",
       "      <td>392.000000</td>\n",
       "      <td>392.000000</td>\n",
       "      <td>392.000000</td>\n",
       "      <td>392.000000</td>\n",
       "      <td>392.000000</td>\n",
       "      <td>392.000000</td>\n",
       "    </tr>\n",
       "    <tr>\n",
       "      <th>mean</th>\n",
       "      <td>3.301020</td>\n",
       "      <td>122.627551</td>\n",
       "      <td>70.663265</td>\n",
       "      <td>29.145408</td>\n",
       "      <td>156.056122</td>\n",
       "      <td>33.086224</td>\n",
       "      <td>0.523046</td>\n",
       "      <td>30.864796</td>\n",
       "      <td>0.331633</td>\n",
       "    </tr>\n",
       "    <tr>\n",
       "      <th>std</th>\n",
       "      <td>3.211424</td>\n",
       "      <td>30.860781</td>\n",
       "      <td>12.496092</td>\n",
       "      <td>10.516424</td>\n",
       "      <td>118.841690</td>\n",
       "      <td>7.027659</td>\n",
       "      <td>0.345488</td>\n",
       "      <td>10.200777</td>\n",
       "      <td>0.471401</td>\n",
       "    </tr>\n",
       "    <tr>\n",
       "      <th>min</th>\n",
       "      <td>0.000000</td>\n",
       "      <td>56.000000</td>\n",
       "      <td>24.000000</td>\n",
       "      <td>7.000000</td>\n",
       "      <td>14.000000</td>\n",
       "      <td>18.200000</td>\n",
       "      <td>0.085000</td>\n",
       "      <td>21.000000</td>\n",
       "      <td>0.000000</td>\n",
       "    </tr>\n",
       "    <tr>\n",
       "      <th>25%</th>\n",
       "      <td>1.000000</td>\n",
       "      <td>99.000000</td>\n",
       "      <td>62.000000</td>\n",
       "      <td>21.000000</td>\n",
       "      <td>76.750000</td>\n",
       "      <td>28.400000</td>\n",
       "      <td>0.269750</td>\n",
       "      <td>23.000000</td>\n",
       "      <td>0.000000</td>\n",
       "    </tr>\n",
       "    <tr>\n",
       "      <th>50%</th>\n",
       "      <td>2.000000</td>\n",
       "      <td>119.000000</td>\n",
       "      <td>70.000000</td>\n",
       "      <td>29.000000</td>\n",
       "      <td>125.500000</td>\n",
       "      <td>33.200000</td>\n",
       "      <td>0.449500</td>\n",
       "      <td>27.000000</td>\n",
       "      <td>0.000000</td>\n",
       "    </tr>\n",
       "    <tr>\n",
       "      <th>75%</th>\n",
       "      <td>5.000000</td>\n",
       "      <td>143.000000</td>\n",
       "      <td>78.000000</td>\n",
       "      <td>37.000000</td>\n",
       "      <td>190.000000</td>\n",
       "      <td>37.100000</td>\n",
       "      <td>0.687000</td>\n",
       "      <td>36.000000</td>\n",
       "      <td>1.000000</td>\n",
       "    </tr>\n",
       "    <tr>\n",
       "      <th>max</th>\n",
       "      <td>17.000000</td>\n",
       "      <td>198.000000</td>\n",
       "      <td>110.000000</td>\n",
       "      <td>63.000000</td>\n",
       "      <td>846.000000</td>\n",
       "      <td>67.100000</td>\n",
       "      <td>2.420000</td>\n",
       "      <td>81.000000</td>\n",
       "      <td>1.000000</td>\n",
       "    </tr>\n",
       "  </tbody>\n",
       "</table>\n",
       "</div>"
      ],
      "text/plain": [
       "        embarazos     glucosa  presionArterial  grosor_de_la_peil    insulina  \\\n",
       "count  392.000000  392.000000       392.000000         392.000000  392.000000   \n",
       "mean     3.301020  122.627551        70.663265          29.145408  156.056122   \n",
       "std      3.211424   30.860781        12.496092          10.516424  118.841690   \n",
       "min      0.000000   56.000000        24.000000           7.000000   14.000000   \n",
       "25%      1.000000   99.000000        62.000000          21.000000   76.750000   \n",
       "50%      2.000000  119.000000        70.000000          29.000000  125.500000   \n",
       "75%      5.000000  143.000000        78.000000          37.000000  190.000000   \n",
       "max     17.000000  198.000000       110.000000          63.000000  846.000000   \n",
       "\n",
       "              BMI  FuncionPedigreeDiabetes        edad   resultado  \n",
       "count  392.000000               392.000000  392.000000  392.000000  \n",
       "mean    33.086224                 0.523046   30.864796    0.331633  \n",
       "std      7.027659                 0.345488   10.200777    0.471401  \n",
       "min     18.200000                 0.085000   21.000000    0.000000  \n",
       "25%     28.400000                 0.269750   23.000000    0.000000  \n",
       "50%     33.200000                 0.449500   27.000000    0.000000  \n",
       "75%     37.100000                 0.687000   36.000000    1.000000  \n",
       "max     67.100000                 2.420000   81.000000    1.000000  "
      ]
     },
     "execution_count": 8,
     "metadata": {},
     "output_type": "execute_result"
    }
   ],
   "source": [
    "df5.describe()"
   ]
  },
  {
   "cell_type": "markdown",
   "id": "66ebee74",
   "metadata": {},
   "source": [
    "**COMENZAMOS CON EL ANALISIS DE NUESTRO DATAFRAME**"
   ]
  },
  {
   "cell_type": "code",
   "execution_count": 9,
   "id": "01149d3b",
   "metadata": {},
   "outputs": [
    {
     "name": "stdout",
     "output_type": "stream",
     "text": [
      "0    262\n",
      "1    130\n",
      "Name: resultado, dtype: int64\n",
      "----------------------------------------------------------------------------------------------------\n"
     ]
    },
    {
     "data": {
      "text/plain": [
       "<function matplotlib.pyplot.show(close=None, block=None)>"
      ]
     },
     "execution_count": 9,
     "metadata": {},
     "output_type": "execute_result"
    },
    {
     "data": {
      "image/png": "[encoded data removed]",
      "text/plain": [
       "<Figure size 640x480 with 1 Axes>"
      ]
     },
     "metadata": {},
     "output_type": "display_data"
    }
   ],
   "source": [
    "# NUMERO DE PERSONAS QUE TIENEN DIABETES EN NUESTRO DATAFRAME\n",
    "\n",
    "personas_diabetes = df5[\"resultado\"].value_counts()\n",
    "print(personas_diabetes)\n",
    "print(\"--\"*50)\n",
    "nombres=[\"No Diabetes\", \"Si Diabetes\"]\n",
    "plt.pie(personas_diabetes, labels=nombres, autopct=\"%0.1f %%\")\n",
    "plt.title('Presentacion de % de Personas Con y Sin Diabetes')\n",
    "plt.show"
   ]
  },
  {
   "cell_type": "markdown",
   "id": "ec71ec96",
   "metadata": {},
   "source": [
    "A CONTINUACION OBTENEMOS LAS PERSONAS CON MAYOR Y MENOR IMC"
   ]
  },
  {
   "cell_type": "code",
   "execution_count": 10,
   "id": "bda4ee16",
   "metadata": {},
   "outputs": [
    {
     "name": "stdout",
     "output_type": "stream",
     "text": [
      "Las 10 personas con MAYOR IMC:\n",
      " 177    67.1\n",
      "445    59.4\n",
      "673    57.3\n",
      "125    55.0\n",
      "120    53.2\n",
      "247    52.3\n",
      "99     49.7\n",
      "335    47.9\n",
      "57     46.8\n",
      "92     46.7\n",
      "Name: BMI, dtype: float64\n",
      "----------------------------------------------------------------------------------------------------\n",
      "Las 10 personas con MENOR IMC:\n",
      " 526    18.2\n",
      "316    19.3\n",
      "50     19.4\n",
      "639    19.5\n",
      "607    19.5\n",
      "68     19.6\n",
      "519    19.6\n",
      "617    20.1\n",
      "203    20.4\n",
      "97     20.4\n",
      "Name: BMI, dtype: float64\n"
     ]
    }
   ],
   "source": [
    "# BMI O Indice de Masa Corporal IMC, es una razón matemática que asocia la masa y la talla de un individuo\n",
    "#                  Si su IMC es entre 18.5 y 24.9, se encuentra dentro del rango de peso normal o saludable.\n",
    "#                  Si su IMC es entre 25.0 y 29.9, se encuentra dentro del rango de sobrepeso.\n",
    "#                  Si su IMC es 30.0 o superior, se encuentra dentro del rango de obesidad.\n",
    "print(\"Las 10 personas con MAYOR IMC:\\n\",df5[\"BMI\"].sort_values(ascending=False).head(10))\n",
    "print(\"--\"*50)\n",
    "print(\"Las 10 personas con MENOR IMC:\\n\",df5[\"BMI\"].sort_values(ascending=True).head(10))"
   ]
  },
  {
   "cell_type": "markdown",
   "id": "b9f21e09",
   "metadata": {},
   "source": [
    "A CONTINUACION OBTENDREMOS TODAS LAS EDADES CON DIABETES"
   ]
  },
  {
   "cell_type": "code",
   "execution_count": 11,
   "id": "cbf29476",
   "metadata": {},
   "outputs": [
    {
     "data": {
      "text/html": [
       "<div>\n",
       "<style scoped>\n",
       "    .dataframe tbody tr th:only-of-type {\n",
       "        vertical-align: middle;\n",
       "    }\n",
       "\n",
       "    .dataframe tbody tr th {\n",
       "        vertical-align: top;\n",
       "    }\n",
       "\n",
       "    .dataframe thead th {\n",
       "        text-align: right;\n",
       "    }\n",
       "</style>\n",
       "<table border=\"1\" class=\"dataframe\">\n",
       "  <thead>\n",
       "    <tr style=\"text-align: right;\">\n",
       "      <th></th>\n",
       "      <th>Edad</th>\n",
       "      <th>Cantidad</th>\n",
       "      <th>Porcentaje</th>\n",
       "    </tr>\n",
       "  </thead>\n",
       "  <tbody>\n",
       "    <tr>\n",
       "      <th>0</th>\n",
       "      <td>25.0</td>\n",
       "      <td>9</td>\n",
       "      <td>6.923077</td>\n",
       "    </tr>\n",
       "    <tr>\n",
       "      <th>1</th>\n",
       "      <td>29.0</td>\n",
       "      <td>8</td>\n",
       "      <td>6.153846</td>\n",
       "    </tr>\n",
       "    <tr>\n",
       "      <th>2</th>\n",
       "      <td>31.0</td>\n",
       "      <td>7</td>\n",
       "      <td>5.384615</td>\n",
       "    </tr>\n",
       "    <tr>\n",
       "      <th>3</th>\n",
       "      <td>43.0</td>\n",
       "      <td>7</td>\n",
       "      <td>5.384615</td>\n",
       "    </tr>\n",
       "    <tr>\n",
       "      <th>4</th>\n",
       "      <td>33.0</td>\n",
       "      <td>7</td>\n",
       "      <td>5.384615</td>\n",
       "    </tr>\n",
       "    <tr>\n",
       "      <th>5</th>\n",
       "      <td>28.0</td>\n",
       "      <td>7</td>\n",
       "      <td>5.384615</td>\n",
       "    </tr>\n",
       "    <tr>\n",
       "      <th>6</th>\n",
       "      <td>24.0</td>\n",
       "      <td>6</td>\n",
       "      <td>4.615385</td>\n",
       "    </tr>\n",
       "    <tr>\n",
       "      <th>7</th>\n",
       "      <td>51.0</td>\n",
       "      <td>5</td>\n",
       "      <td>3.846154</td>\n",
       "    </tr>\n",
       "    <tr>\n",
       "      <th>8</th>\n",
       "      <td>36.0</td>\n",
       "      <td>5</td>\n",
       "      <td>3.846154</td>\n",
       "    </tr>\n",
       "    <tr>\n",
       "      <th>9</th>\n",
       "      <td>26.0</td>\n",
       "      <td>5</td>\n",
       "      <td>3.846154</td>\n",
       "    </tr>\n",
       "    <tr>\n",
       "      <th>10</th>\n",
       "      <td>22.0</td>\n",
       "      <td>5</td>\n",
       "      <td>3.846154</td>\n",
       "    </tr>\n",
       "    <tr>\n",
       "      <th>11</th>\n",
       "      <td>46.0</td>\n",
       "      <td>4</td>\n",
       "      <td>3.076923</td>\n",
       "    </tr>\n",
       "    <tr>\n",
       "      <th>12</th>\n",
       "      <td>27.0</td>\n",
       "      <td>3</td>\n",
       "      <td>2.307692</td>\n",
       "    </tr>\n",
       "    <tr>\n",
       "      <th>13</th>\n",
       "      <td>23.0</td>\n",
       "      <td>3</td>\n",
       "      <td>2.307692</td>\n",
       "    </tr>\n",
       "    <tr>\n",
       "      <th>14</th>\n",
       "      <td>40.0</td>\n",
       "      <td>3</td>\n",
       "      <td>2.307692</td>\n",
       "    </tr>\n",
       "    <tr>\n",
       "      <th>15</th>\n",
       "      <td>35.0</td>\n",
       "      <td>3</td>\n",
       "      <td>2.307692</td>\n",
       "    </tr>\n",
       "    <tr>\n",
       "      <th>16</th>\n",
       "      <td>30.0</td>\n",
       "      <td>3</td>\n",
       "      <td>2.307692</td>\n",
       "    </tr>\n",
       "    <tr>\n",
       "      <th>17</th>\n",
       "      <td>42.0</td>\n",
       "      <td>3</td>\n",
       "      <td>2.307692</td>\n",
       "    </tr>\n",
       "    <tr>\n",
       "      <th>18</th>\n",
       "      <td>41.0</td>\n",
       "      <td>3</td>\n",
       "      <td>2.307692</td>\n",
       "    </tr>\n",
       "    <tr>\n",
       "      <th>19</th>\n",
       "      <td>58.0</td>\n",
       "      <td>3</td>\n",
       "      <td>2.307692</td>\n",
       "    </tr>\n",
       "    <tr>\n",
       "      <th>20</th>\n",
       "      <td>32.0</td>\n",
       "      <td>3</td>\n",
       "      <td>2.307692</td>\n",
       "    </tr>\n",
       "    <tr>\n",
       "      <th>21</th>\n",
       "      <td>53.0</td>\n",
       "      <td>3</td>\n",
       "      <td>2.307692</td>\n",
       "    </tr>\n",
       "    <tr>\n",
       "      <th>22</th>\n",
       "      <td>47.0</td>\n",
       "      <td>2</td>\n",
       "      <td>1.538462</td>\n",
       "    </tr>\n",
       "    <tr>\n",
       "      <th>23</th>\n",
       "      <td>54.0</td>\n",
       "      <td>2</td>\n",
       "      <td>1.538462</td>\n",
       "    </tr>\n",
       "    <tr>\n",
       "      <th>24</th>\n",
       "      <td>34.0</td>\n",
       "      <td>2</td>\n",
       "      <td>1.538462</td>\n",
       "    </tr>\n",
       "    <tr>\n",
       "      <th>25</th>\n",
       "      <td>52.0</td>\n",
       "      <td>2</td>\n",
       "      <td>1.538462</td>\n",
       "    </tr>\n",
       "    <tr>\n",
       "      <th>26</th>\n",
       "      <td>38.0</td>\n",
       "      <td>2</td>\n",
       "      <td>1.538462</td>\n",
       "    </tr>\n",
       "    <tr>\n",
       "      <th>27</th>\n",
       "      <td>21.0</td>\n",
       "      <td>2</td>\n",
       "      <td>1.538462</td>\n",
       "    </tr>\n",
       "    <tr>\n",
       "      <th>28</th>\n",
       "      <td>45.0</td>\n",
       "      <td>2</td>\n",
       "      <td>1.538462</td>\n",
       "    </tr>\n",
       "    <tr>\n",
       "      <th>29</th>\n",
       "      <td>37.0</td>\n",
       "      <td>2</td>\n",
       "      <td>1.538462</td>\n",
       "    </tr>\n",
       "    <tr>\n",
       "      <th>30</th>\n",
       "      <td>39.0</td>\n",
       "      <td>1</td>\n",
       "      <td>0.769231</td>\n",
       "    </tr>\n",
       "    <tr>\n",
       "      <th>31</th>\n",
       "      <td>55.0</td>\n",
       "      <td>1</td>\n",
       "      <td>0.769231</td>\n",
       "    </tr>\n",
       "    <tr>\n",
       "      <th>32</th>\n",
       "      <td>50.0</td>\n",
       "      <td>1</td>\n",
       "      <td>0.769231</td>\n",
       "    </tr>\n",
       "    <tr>\n",
       "      <th>33</th>\n",
       "      <td>44.0</td>\n",
       "      <td>1</td>\n",
       "      <td>0.769231</td>\n",
       "    </tr>\n",
       "    <tr>\n",
       "      <th>34</th>\n",
       "      <td>59.0</td>\n",
       "      <td>1</td>\n",
       "      <td>0.769231</td>\n",
       "    </tr>\n",
       "    <tr>\n",
       "      <th>35</th>\n",
       "      <td>57.0</td>\n",
       "      <td>1</td>\n",
       "      <td>0.769231</td>\n",
       "    </tr>\n",
       "    <tr>\n",
       "      <th>36</th>\n",
       "      <td>60.0</td>\n",
       "      <td>1</td>\n",
       "      <td>0.769231</td>\n",
       "    </tr>\n",
       "    <tr>\n",
       "      <th>37</th>\n",
       "      <td>56.0</td>\n",
       "      <td>1</td>\n",
       "      <td>0.769231</td>\n",
       "    </tr>\n",
       "    <tr>\n",
       "      <th>38</th>\n",
       "      <td>48.0</td>\n",
       "      <td>1</td>\n",
       "      <td>0.769231</td>\n",
       "    </tr>\n",
       "  </tbody>\n",
       "</table>\n",
       "</div>"
      ],
      "text/plain": [
       "    Edad  Cantidad  Porcentaje\n",
       "0   25.0         9    6.923077\n",
       "1   29.0         8    6.153846\n",
       "2   31.0         7    5.384615\n",
       "3   43.0         7    5.384615\n",
       "4   33.0         7    5.384615\n",
       "5   28.0         7    5.384615\n",
       "6   24.0         6    4.615385\n",
       "7   51.0         5    3.846154\n",
       "8   36.0         5    3.846154\n",
       "9   26.0         5    3.846154\n",
       "10  22.0         5    3.846154\n",
       "11  46.0         4    3.076923\n",
       "12  27.0         3    2.307692\n",
       "13  23.0         3    2.307692\n",
       "14  40.0         3    2.307692\n",
       "15  35.0         3    2.307692\n",
       "16  30.0         3    2.307692\n",
       "17  42.0         3    2.307692\n",
       "18  41.0         3    2.307692\n",
       "19  58.0         3    2.307692\n",
       "20  32.0         3    2.307692\n",
       "21  53.0         3    2.307692\n",
       "22  47.0         2    1.538462\n",
       "23  54.0         2    1.538462\n",
       "24  34.0         2    1.538462\n",
       "25  52.0         2    1.538462\n",
       "26  38.0         2    1.538462\n",
       "27  21.0         2    1.538462\n",
       "28  45.0         2    1.538462\n",
       "29  37.0         2    1.538462\n",
       "30  39.0         1    0.769231\n",
       "31  55.0         1    0.769231\n",
       "32  50.0         1    0.769231\n",
       "33  44.0         1    0.769231\n",
       "34  59.0         1    0.769231\n",
       "35  57.0         1    0.769231\n",
       "36  60.0         1    0.769231\n",
       "37  56.0         1    0.769231\n",
       "38  48.0         1    0.769231"
      ]
     },
     "execution_count": 11,
     "metadata": {},
     "output_type": "execute_result"
    }
   ],
   "source": [
    "\n",
    "num_personas_diabetes = df4[\"edad\"].where(df4[\"resultado\"]==1)\n",
    "#print(num_personas_diabetes)\n",
    "\n",
    "num_personas_diabetes1 = df4[\"edad\"].where(df4[\"resultado\"]==1).value_counts()\n",
    "#print(num_personas_diabetes1)\n",
    "\n",
    "# continuando... crearemos un dataframe de la anterior variable para su mejor trabajo\n",
    "num_personas_diabetes2 = pd.DataFrame({\n",
    "    \"Edad\":num_personas_diabetes1.index, \"Cantidad\": num_personas_diabetes1.values\n",
    "})\n",
    "#num_personas_diabetes2.head(5) #solo mostramos las 5 primeras filas\n",
    "num_personas_diabetes2[\"Porcentaje\"] = (num_personas_diabetes2[\"Cantidad\"].values/130)*100\n",
    "num_personas_diabetes2"
   ]
  },
  {
   "cell_type": "markdown",
   "id": "4be1d5f2",
   "metadata": {},
   "source": [
    "A CONTINUACION OBETENEMOS LAS EDAD DE LAS PERSONAS QUE NO TENGAN DIABETES"
   ]
  },
  {
   "cell_type": "code",
   "execution_count": 12,
   "id": "f0867abf",
   "metadata": {},
   "outputs": [
    {
     "data": {
      "text/html": [
       "<div>\n",
       "<style scoped>\n",
       "    .dataframe tbody tr th:only-of-type {\n",
       "        vertical-align: middle;\n",
       "    }\n",
       "\n",
       "    .dataframe tbody tr th {\n",
       "        vertical-align: top;\n",
       "    }\n",
       "\n",
       "    .dataframe thead th {\n",
       "        text-align: right;\n",
       "    }\n",
       "</style>\n",
       "<table border=\"1\" class=\"dataframe\">\n",
       "  <thead>\n",
       "    <tr style=\"text-align: right;\">\n",
       "      <th></th>\n",
       "      <th>Edad</th>\n",
       "      <th>Cantidad</th>\n",
       "      <th>Porcentaje</th>\n",
       "    </tr>\n",
       "  </thead>\n",
       "  <tbody>\n",
       "    <tr>\n",
       "      <th>0</th>\n",
       "      <td>22.0</td>\n",
       "      <td>38</td>\n",
       "      <td>14.503817</td>\n",
       "    </tr>\n",
       "    <tr>\n",
       "      <th>1</th>\n",
       "      <td>21.0</td>\n",
       "      <td>31</td>\n",
       "      <td>11.832061</td>\n",
       "    </tr>\n",
       "    <tr>\n",
       "      <th>2</th>\n",
       "      <td>24.0</td>\n",
       "      <td>25</td>\n",
       "      <td>9.541985</td>\n",
       "    </tr>\n",
       "    <tr>\n",
       "      <th>3</th>\n",
       "      <td>23.0</td>\n",
       "      <td>25</td>\n",
       "      <td>9.541985</td>\n",
       "    </tr>\n",
       "    <tr>\n",
       "      <th>4</th>\n",
       "      <td>25.0</td>\n",
       "      <td>21</td>\n",
       "      <td>8.015267</td>\n",
       "    </tr>\n",
       "    <tr>\n",
       "      <th>5</th>\n",
       "      <td>26.0</td>\n",
       "      <td>19</td>\n",
       "      <td>7.251908</td>\n",
       "    </tr>\n",
       "    <tr>\n",
       "      <th>6</th>\n",
       "      <td>28.0</td>\n",
       "      <td>14</td>\n",
       "      <td>5.343511</td>\n",
       "    </tr>\n",
       "    <tr>\n",
       "      <th>7</th>\n",
       "      <td>27.0</td>\n",
       "      <td>11</td>\n",
       "      <td>4.198473</td>\n",
       "    </tr>\n",
       "    <tr>\n",
       "      <th>8</th>\n",
       "      <td>30.0</td>\n",
       "      <td>7</td>\n",
       "      <td>2.671756</td>\n",
       "    </tr>\n",
       "    <tr>\n",
       "      <th>9</th>\n",
       "      <td>34.0</td>\n",
       "      <td>6</td>\n",
       "      <td>2.290076</td>\n",
       "    </tr>\n",
       "    <tr>\n",
       "      <th>10</th>\n",
       "      <td>39.0</td>\n",
       "      <td>6</td>\n",
       "      <td>2.290076</td>\n",
       "    </tr>\n",
       "    <tr>\n",
       "      <th>11</th>\n",
       "      <td>37.0</td>\n",
       "      <td>6</td>\n",
       "      <td>2.290076</td>\n",
       "    </tr>\n",
       "    <tr>\n",
       "      <th>12</th>\n",
       "      <td>29.0</td>\n",
       "      <td>6</td>\n",
       "      <td>2.290076</td>\n",
       "    </tr>\n",
       "    <tr>\n",
       "      <th>13</th>\n",
       "      <td>31.0</td>\n",
       "      <td>5</td>\n",
       "      <td>1.908397</td>\n",
       "    </tr>\n",
       "    <tr>\n",
       "      <th>14</th>\n",
       "      <td>42.0</td>\n",
       "      <td>4</td>\n",
       "      <td>1.526718</td>\n",
       "    </tr>\n",
       "    <tr>\n",
       "      <th>15</th>\n",
       "      <td>33.0</td>\n",
       "      <td>4</td>\n",
       "      <td>1.526718</td>\n",
       "    </tr>\n",
       "    <tr>\n",
       "      <th>16</th>\n",
       "      <td>35.0</td>\n",
       "      <td>3</td>\n",
       "      <td>1.145038</td>\n",
       "    </tr>\n",
       "    <tr>\n",
       "      <th>17</th>\n",
       "      <td>40.0</td>\n",
       "      <td>3</td>\n",
       "      <td>1.145038</td>\n",
       "    </tr>\n",
       "    <tr>\n",
       "      <th>18</th>\n",
       "      <td>32.0</td>\n",
       "      <td>3</td>\n",
       "      <td>1.145038</td>\n",
       "    </tr>\n",
       "    <tr>\n",
       "      <th>19</th>\n",
       "      <td>46.0</td>\n",
       "      <td>2</td>\n",
       "      <td>0.763359</td>\n",
       "    </tr>\n",
       "    <tr>\n",
       "      <th>20</th>\n",
       "      <td>41.0</td>\n",
       "      <td>2</td>\n",
       "      <td>0.763359</td>\n",
       "    </tr>\n",
       "    <tr>\n",
       "      <th>21</th>\n",
       "      <td>48.0</td>\n",
       "      <td>2</td>\n",
       "      <td>0.763359</td>\n",
       "    </tr>\n",
       "    <tr>\n",
       "      <th>22</th>\n",
       "      <td>49.0</td>\n",
       "      <td>2</td>\n",
       "      <td>0.763359</td>\n",
       "    </tr>\n",
       "    <tr>\n",
       "      <th>23</th>\n",
       "      <td>36.0</td>\n",
       "      <td>2</td>\n",
       "      <td>0.763359</td>\n",
       "    </tr>\n",
       "    <tr>\n",
       "      <th>24</th>\n",
       "      <td>43.0</td>\n",
       "      <td>2</td>\n",
       "      <td>0.763359</td>\n",
       "    </tr>\n",
       "    <tr>\n",
       "      <th>25</th>\n",
       "      <td>45.0</td>\n",
       "      <td>2</td>\n",
       "      <td>0.763359</td>\n",
       "    </tr>\n",
       "    <tr>\n",
       "      <th>26</th>\n",
       "      <td>51.0</td>\n",
       "      <td>1</td>\n",
       "      <td>0.381679</td>\n",
       "    </tr>\n",
       "    <tr>\n",
       "      <th>27</th>\n",
       "      <td>57.0</td>\n",
       "      <td>1</td>\n",
       "      <td>0.381679</td>\n",
       "    </tr>\n",
       "    <tr>\n",
       "      <th>28</th>\n",
       "      <td>61.0</td>\n",
       "      <td>1</td>\n",
       "      <td>0.381679</td>\n",
       "    </tr>\n",
       "    <tr>\n",
       "      <th>29</th>\n",
       "      <td>38.0</td>\n",
       "      <td>1</td>\n",
       "      <td>0.381679</td>\n",
       "    </tr>\n",
       "    <tr>\n",
       "      <th>30</th>\n",
       "      <td>81.0</td>\n",
       "      <td>1</td>\n",
       "      <td>0.381679</td>\n",
       "    </tr>\n",
       "    <tr>\n",
       "      <th>31</th>\n",
       "      <td>58.0</td>\n",
       "      <td>1</td>\n",
       "      <td>0.381679</td>\n",
       "    </tr>\n",
       "    <tr>\n",
       "      <th>32</th>\n",
       "      <td>55.0</td>\n",
       "      <td>1</td>\n",
       "      <td>0.381679</td>\n",
       "    </tr>\n",
       "    <tr>\n",
       "      <th>33</th>\n",
       "      <td>60.0</td>\n",
       "      <td>1</td>\n",
       "      <td>0.381679</td>\n",
       "    </tr>\n",
       "    <tr>\n",
       "      <th>34</th>\n",
       "      <td>50.0</td>\n",
       "      <td>1</td>\n",
       "      <td>0.381679</td>\n",
       "    </tr>\n",
       "    <tr>\n",
       "      <th>35</th>\n",
       "      <td>47.0</td>\n",
       "      <td>1</td>\n",
       "      <td>0.381679</td>\n",
       "    </tr>\n",
       "    <tr>\n",
       "      <th>36</th>\n",
       "      <td>63.0</td>\n",
       "      <td>1</td>\n",
       "      <td>0.381679</td>\n",
       "    </tr>\n",
       "  </tbody>\n",
       "</table>\n",
       "</div>"
      ],
      "text/plain": [
       "    Edad  Cantidad  Porcentaje\n",
       "0   22.0        38   14.503817\n",
       "1   21.0        31   11.832061\n",
       "2   24.0        25    9.541985\n",
       "3   23.0        25    9.541985\n",
       "4   25.0        21    8.015267\n",
       "5   26.0        19    7.251908\n",
       "6   28.0        14    5.343511\n",
       "7   27.0        11    4.198473\n",
       "8   30.0         7    2.671756\n",
       "9   34.0         6    2.290076\n",
       "10  39.0         6    2.290076\n",
       "11  37.0         6    2.290076\n",
       "12  29.0         6    2.290076\n",
       "13  31.0         5    1.908397\n",
       "14  42.0         4    1.526718\n",
       "15  33.0         4    1.526718\n",
       "16  35.0         3    1.145038\n",
       "17  40.0         3    1.145038\n",
       "18  32.0         3    1.145038\n",
       "19  46.0         2    0.763359\n",
       "20  41.0         2    0.763359\n",
       "21  48.0         2    0.763359\n",
       "22  49.0         2    0.763359\n",
       "23  36.0         2    0.763359\n",
       "24  43.0         2    0.763359\n",
       "25  45.0         2    0.763359\n",
       "26  51.0         1    0.381679\n",
       "27  57.0         1    0.381679\n",
       "28  61.0         1    0.381679\n",
       "29  38.0         1    0.381679\n",
       "30  81.0         1    0.381679\n",
       "31  58.0         1    0.381679\n",
       "32  55.0         1    0.381679\n",
       "33  60.0         1    0.381679\n",
       "34  50.0         1    0.381679\n",
       "35  47.0         1    0.381679\n",
       "36  63.0         1    0.381679"
      ]
     },
     "execution_count": 12,
     "metadata": {},
     "output_type": "execute_result"
    }
   ],
   "source": [
    "\n",
    "num_personas_nodiabetes = df5[\"edad\"].where(df5[\"resultado\"]==0)\n",
    "#print(num_personas_diabetes)\n",
    "\n",
    "num_personas_nodiabetes1 = df5[\"edad\"].where(df5[\"resultado\"]==0).value_counts()\n",
    "#print(num_personas_diabetes1)\n",
    "\n",
    "# continuando... crearemos un dataframe de la anterior variable para su mejor trabajo\n",
    "num_personas_nodiabetes2 = pd.DataFrame({\n",
    "    \"Edad\":num_personas_nodiabetes1.index, \"Cantidad\": num_personas_nodiabetes1.values\n",
    "})\n",
    "#num_personas_diabetes2.head(5) #solo mostramos las 5 primeras filas\n",
    "num_personas_nodiabetes2[\"Porcentaje\"] = (num_personas_nodiabetes2[\"Cantidad\"].values/262)*100\n",
    "num_personas_nodiabetes2"
   ]
  },
  {
   "cell_type": "code",
   "execution_count": 13,
   "id": "484dd753",
   "metadata": {},
   "outputs": [
    {
     "data": {
      "text/plain": [
       "resultado\n",
       "0    2.721374\n",
       "1    4.469231\n",
       "Name: embarazos, dtype: float64"
      ]
     },
     "execution_count": 13,
     "metadata": {},
     "output_type": "execute_result"
    }
   ],
   "source": [
    "df5.groupby([\"resultado\"]).mean()[\"embarazos\"]"
   ]
  },
  {
   "cell_type": "markdown",
   "id": "606ec88d",
   "metadata": {},
   "source": [
    "El resultado de tener diabetes con respecto al promedio de embarazos, es de casi 2 embarazos más de las muejres que no lo tienen diabetes."
   ]
  },
  {
   "cell_type": "code",
   "execution_count": 14,
   "id": "eb605210",
   "metadata": {},
   "outputs": [
    {
     "data": {
      "text/plain": [
       "resultado\n",
       "0    130.854962\n",
       "1    206.846154\n",
       "Name: insulina, dtype: float64"
      ]
     },
     "execution_count": 14,
     "metadata": {},
     "output_type": "execute_result"
    }
   ],
   "source": [
    "df5.groupby([\"resultado\"]).mean()[\"insulina\"]"
   ]
  },
  {
   "cell_type": "markdown",
   "id": "eb5bef9a",
   "metadata": {},
   "source": [
    "Los niveles de insulina en personas con diabetes, es en promedio mas de 70 mg/dl que las personas que no tienen diabetes."
   ]
  },
  {
   "cell_type": "code",
   "execution_count": 15,
   "id": "18789d41",
   "metadata": {},
   "outputs": [
    {
     "data": {
      "text/plain": [
       "resultado\n",
       "0    111.431298\n",
       "1    145.192308\n",
       "Name: glucosa, dtype: float64"
      ]
     },
     "execution_count": 15,
     "metadata": {},
     "output_type": "execute_result"
    }
   ],
   "source": [
    "df5.groupby([\"resultado\"]).mean()[\"glucosa\"]"
   ]
  },
  {
   "cell_type": "markdown",
   "id": "38555bbe",
   "metadata": {},
   "source": [
    "De igual manera, se observa que las personas con Diabetes tienen mayores niveles de glucosa en promedio que las personas que no tienen diabetes."
   ]
  },
  {
   "cell_type": "code",
   "execution_count": 16,
   "id": "f2f61e48",
   "metadata": {},
   "outputs": [
    {
     "data": {
      "text/plain": [
       "resultado\n",
       "0    68.969466\n",
       "1    74.076923\n",
       "Name: presionArterial, dtype: float64"
      ]
     },
     "execution_count": 16,
     "metadata": {},
     "output_type": "execute_result"
    }
   ],
   "source": [
    "df5.groupby([\"resultado\"]).mean()[\"presionArterial\"]"
   ]
  },
  {
   "cell_type": "markdown",
   "id": "a555bb19",
   "metadata": {},
   "source": [
    "Por otro lado, la personas con mayor Presión Arterial en promedio, tienden a tener diabetes."
   ]
  },
  {
   "cell_type": "code",
   "execution_count": 17,
   "id": "58aac6e5",
   "metadata": {},
   "outputs": [
    {
     "data": {
      "text/plain": [
       "resultado\n",
       "0    31.750763\n",
       "1    35.777692\n",
       "Name: BMI, dtype: float64"
      ]
     },
     "execution_count": 17,
     "metadata": {},
     "output_type": "execute_result"
    }
   ],
   "source": [
    "df5.groupby([\"resultado\"]).mean()[\"BMI\"]"
   ]
  },
  {
   "cell_type": "markdown",
   "id": "d65acdb0",
   "metadata": {},
   "source": [
    "Las personas que presentan un mayor Grosor de la Piel, son más probables a tener diabetes en promedio."
   ]
  },
  {
   "cell_type": "markdown",
   "id": "212df33d",
   "metadata": {},
   "source": [
    "Cabe destacar que segun estudios medicos, son resultados esperados en personas que presentan Diabetes, ya sea por la edad, el nivel de insulina, glucosa, presión arterial, BMI o hasta el número de embarazos."
   ]
  },
  {
   "cell_type": "code",
   "execution_count": 18,
   "id": "90ef1f0c",
   "metadata": {},
   "outputs": [
    {
     "data": {
      "text/plain": [
       "array([[<AxesSubplot:title={'center':'embarazos'}>,\n",
       "        <AxesSubplot:title={'center':'glucosa'}>,\n",
       "        <AxesSubplot:title={'center':'presionArterial'}>],\n",
       "       [<AxesSubplot:title={'center':'grosor_de_la_peil'}>,\n",
       "        <AxesSubplot:title={'center':'insulina'}>,\n",
       "        <AxesSubplot:title={'center':'BMI'}>],\n",
       "       [<AxesSubplot:title={'center':'FuncionPedigreeDiabetes'}>,\n",
       "        <AxesSubplot:title={'center':'edad'}>,\n",
       "        <AxesSubplot:title={'center':'resultado'}>]], dtype=object)"
      ]
     },
     "execution_count": 18,
     "metadata": {},
     "output_type": "execute_result"
    },
    {
     "data": {
      "text/plain": [
       "<Figure size 1200x600 with 0 Axes>"
      ]
     },
     "metadata": {},
     "output_type": "display_data"
    },
    {
     "data": {
      "image/png": "[encoded data removed]",
      "text/plain": [
       "<Figure size 640x480 with 9 Axes>"
      ]
     },
     "metadata": {},
     "output_type": "display_data"
    }
   ],
   "source": [
    "#Grafico de Histograma\n",
    "plt.figure(figsize=(12,6))\n",
    "df5.hist()"
   ]
  },
  {
   "cell_type": "markdown",
   "id": "75172a9d",
   "metadata": {},
   "source": [
    "**MODELOS**"
   ]
  },
  {
   "cell_type": "code",
   "execution_count": 19,
   "id": "522cb6e6",
   "metadata": {},
   "outputs": [],
   "source": [
    "#Separando los datos para entrenar y testear\n",
    "from sklearn.model_selection import train_test_split\n",
    "\n",
    "x_train, x_test, y_train, y_test  = train_test_split(df5[[\"embarazos\",\"glucosa\",\"presionArterial\",\"grosor_de_la_peil\",\"insulina\",\"BMI\",\"FuncionPedigreeDiabetes\",\"edad\"]], df5.resultado, random_state= 42, test_size= 0.2)"
   ]
  },
  {
   "cell_type": "code",
   "execution_count": 20,
   "id": "7c182ae8",
   "metadata": {},
   "outputs": [
    {
     "name": "stdout",
     "output_type": "stream",
     "text": [
      "Tamaño de Y:(313,)\n",
      "Tamaño de X: (313, 8)\n"
     ]
    }
   ],
   "source": [
    "from sklearn.linear_model import LogisticRegression\n",
    "from sklearn.tree import DecisionTreeClassifier\n",
    "\n",
    "#caracteristicas = [\"embarazos\",\"glucosa\",\"presionArterial\",\"grosor_de_la_peil\",\"insulina\",\"BMI\",\"FuncionPedigreeDiabetes\",\"edad\"]\n",
    "#x_train = df5[caracteristicas]\n",
    "#y_train = df5[\"resultado\"]\n",
    "\n",
    "print(f\"Tamaño de Y:{y_train.shape}\\nTamaño de X: {x_train.shape}\")"
   ]
  },
  {
   "cell_type": "code",
   "execution_count": 21,
   "id": "92c2bd0f",
   "metadata": {},
   "outputs": [
    {
     "name": "stdout",
     "output_type": "stream",
     "text": [
      "Intercepto: [-7.11100935]\n",
      "Coeficientes: [[ 8.76149602e-02  3.04209305e-02 -6.81231829e-03  2.57082306e-02\n",
      "   1.60561816e-03  6.57231478e-03  2.02071944e+00  1.30898289e-02]]\n"
     ]
    },
    {
     "name": "stderr",
     "output_type": "stream",
     "text": [
      "C:\\Users\\GUSTAVO\\anaconda3\\lib\\site-packages\\sklearn\\linear_model\\_logistic.py:814: ConvergenceWarning: lbfgs failed to converge (status=1):\n",
      "STOP: TOTAL NO. of ITERATIONS REACHED LIMIT.\n",
      "\n",
      "Increase the number of iterations (max_iter) or scale the data as shown in:\n",
      "    https://scikit-learn.org/stable/modules/preprocessing.html\n",
      "Please also refer to the documentation for alternative solver options:\n",
      "    https://scikit-learn.org/stable/modules/linear_model.html#logistic-regression\n",
      "  n_iter_i = _check_optimize_result(\n"
     ]
    }
   ],
   "source": [
    "# Modelo logistico 1\n",
    "logit = LogisticRegression()\n",
    "logit.fit(x_train,y_train)\n",
    "\n",
    "print(f\"Intercepto: {logit.intercept_}\")\n",
    "print(f\"Coeficientes: {logit.coef_}\")"
   ]
  },
  {
   "cell_type": "code",
   "execution_count": 22,
   "id": "7cd6ab42",
   "metadata": {},
   "outputs": [
    {
     "name": "stdout",
     "output_type": "stream",
     "text": [
      "Intercepto: [-10.20748657]\n",
      "Coeficientes: [[0.0391602  0.07126871 0.94231797 0.04943482]]\n"
     ]
    }
   ],
   "source": [
    "# Modelo logistico 2\n",
    "x2_train, x2_test, y2_train, y2_test  = train_test_split(df5[[\"glucosa\",\"BMI\",\"FuncionPedigreeDiabetes\",\"edad\"]], df5.resultado, random_state= 42, test_size= 0.2)\n",
    "#caract = [\"BMI\", \"edad\", \"FuncionPedigreeDiabetes\", \"glucosa\"]\n",
    "#x2_train = df5[caract]\n",
    "\n",
    "logit2 = LogisticRegression()\n",
    "logit2.fit(x2_train,y2_train)\n",
    "\n",
    "print(f\"Intercepto: {logit2.intercept_}\")\n",
    "print(f\"Coeficientes: {logit2.coef_}\")"
   ]
  },
  {
   "cell_type": "code",
   "execution_count": 23,
   "id": "508d9216",
   "metadata": {},
   "outputs": [
    {
     "name": "stdout",
     "output_type": "stream",
     "text": [
      "Profundidad del árbol: 11\n",
      "Número de nodos terminales: 48\n"
     ]
    }
   ],
   "source": [
    "# Modelo Arbol de Decision 1\n",
    "a_decision = DecisionTreeClassifier()\n",
    "a_decision.fit(x_train,y_train)\n",
    "\n",
    "print(f\"Profundidad del árbol: {a_decision.get_depth()}\")\n",
    "print(f\"Número de nodos terminales: {a_decision.get_n_leaves()}\")"
   ]
  },
  {
   "cell_type": "code",
   "execution_count": 24,
   "id": "13f55265",
   "metadata": {},
   "outputs": [
    {
     "name": "stdout",
     "output_type": "stream",
     "text": [
      "Profundidad del árbol: 12\n",
      "Número de nodos terminales: 61\n"
     ]
    }
   ],
   "source": [
    "# Modelo Arbol de Decision 2\n",
    "a_decision2 = DecisionTreeClassifier()\n",
    "a_decision2.fit(x2_train,y2_train)\n",
    "\n",
    "print(f\"Profundidad del árbol: {a_decision2.get_depth()}\")\n",
    "print(f\"Número de nodos terminales: {a_decision2.get_n_leaves()}\")"
   ]
  },
  {
   "cell_type": "markdown",
   "id": "d2337151",
   "metadata": {},
   "source": [
    "EVALUANDO LOS MODELOS"
   ]
  },
  {
   "cell_type": "code",
   "execution_count": 25,
   "id": "a89fde4a",
   "metadata": {},
   "outputs": [],
   "source": [
    "from sklearn.metrics import plot_confusion_matrix\n",
    "\n",
    "def m_confusion(modelo):\n",
    "    disp = plot_confusion_matrix(modelo, x_train, y_train,\n",
    "                                cmap = plt.cm.Blues, values_format = \"d\")\n",
    "    true_pred = disp.confusion_matrix[0,0]+disp.confusion_matrix[1,1]\n",
    "    total_data = np.sum(disp.confusion_matrix)\n",
    "    accuracy = true_pred/total_data\n",
    "    print(f\"Accuracy: {np.round(accuracy,4)}\")\n",
    "    plt.show()"
   ]
  },
  {
   "cell_type": "code",
   "execution_count": 26,
   "id": "f0d7c25d",
   "metadata": {},
   "outputs": [
    {
     "name": "stdout",
     "output_type": "stream",
     "text": [
      "Accuracy: 0.7859\n"
     ]
    },
    {
     "name": "stderr",
     "output_type": "stream",
     "text": [
      "C:\\Users\\GUSTAVO\\anaconda3\\lib\\site-packages\\sklearn\\utils\\deprecation.py:87: FutureWarning: Function plot_confusion_matrix is deprecated; Function `plot_confusion_matrix` is deprecated in 1.0 and will be removed in 1.2. Use one of the class methods: ConfusionMatrixDisplay.from_predictions or ConfusionMatrixDisplay.from_estimator.\n",
      "  warnings.warn(msg, category=FutureWarning)\n"
     ]
    },
    {
     "data": {
      "image/png": "[encoded data removed]",
      "text/plain": [
       "<Figure size 640x480 with 2 Axes>"
      ]
     },
     "metadata": {},
     "output_type": "display_data"
    }
   ],
   "source": [
    "m_confusion(logit)"
   ]
  },
  {
   "cell_type": "code",
   "execution_count": 27,
   "id": "7664f8f2",
   "metadata": {},
   "outputs": [
    {
     "name": "stdout",
     "output_type": "stream",
     "text": [
      "Accuracy: 1.0\n"
     ]
    },
    {
     "name": "stderr",
     "output_type": "stream",
     "text": [
      "C:\\Users\\GUSTAVO\\anaconda3\\lib\\site-packages\\sklearn\\utils\\deprecation.py:87: FutureWarning: Function plot_confusion_matrix is deprecated; Function `plot_confusion_matrix` is deprecated in 1.0 and will be removed in 1.2. Use one of the class methods: ConfusionMatrixDisplay.from_predictions or ConfusionMatrixDisplay.from_estimator.\n",
      "  warnings.warn(msg, category=FutureWarning)\n"
     ]
    },
    {
     "data": {
      "image/png": "[encoded data removed]",
      "text/plain": [
       "<Figure size 640x480 with 2 Axes>"
      ]
     },
     "metadata": {},
     "output_type": "display_data"
    }
   ],
   "source": [
    "m_confusion(a_decision)"
   ]
  },
  {
   "cell_type": "code",
   "execution_count": 28,
   "id": "11958487",
   "metadata": {},
   "outputs": [],
   "source": [
    "# Evaluando los Segundos modelos, con menos variables\n",
    "def m_confusion2(modelo):\n",
    "    disp = plot_confusion_matrix(modelo, x2_train, y2_train,\n",
    "                                cmap = plt.cm.Blues, values_format = \"d\")\n",
    "    true_pred = disp.confusion_matrix[0,0]+disp.confusion_matrix[1,1]\n",
    "    total_data = np.sum(disp.confusion_matrix)\n",
    "    accuracy = true_pred/total_data\n",
    "    print(f\"Accuracy: {np.round(accuracy,4)}\")\n",
    "    plt.show()"
   ]
  },
  {
   "cell_type": "code",
   "execution_count": 29,
   "id": "3b7083ee",
   "metadata": {},
   "outputs": [
    {
     "name": "stdout",
     "output_type": "stream",
     "text": [
      "Accuracy: 0.8019\n"
     ]
    },
    {
     "name": "stderr",
     "output_type": "stream",
     "text": [
      "C:\\Users\\GUSTAVO\\anaconda3\\lib\\site-packages\\sklearn\\utils\\deprecation.py:87: FutureWarning: Function plot_confusion_matrix is deprecated; Function `plot_confusion_matrix` is deprecated in 1.0 and will be removed in 1.2. Use one of the class methods: ConfusionMatrixDisplay.from_predictions or ConfusionMatrixDisplay.from_estimator.\n",
      "  warnings.warn(msg, category=FutureWarning)\n"
     ]
    },
    {
     "data": {
      "image/png": "[encoded data removed]",
      "text/plain": [
       "<Figure size 640x480 with 2 Axes>"
      ]
     },
     "metadata": {},
     "output_type": "display_data"
    }
   ],
   "source": [
    "m_confusion2(logit2)"
   ]
  },
  {
   "cell_type": "code",
   "execution_count": 30,
   "id": "ee9ca44d",
   "metadata": {},
   "outputs": [
    {
     "name": "stdout",
     "output_type": "stream",
     "text": [
      "Accuracy: 1.0\n"
     ]
    },
    {
     "name": "stderr",
     "output_type": "stream",
     "text": [
      "C:\\Users\\GUSTAVO\\anaconda3\\lib\\site-packages\\sklearn\\utils\\deprecation.py:87: FutureWarning: Function plot_confusion_matrix is deprecated; Function `plot_confusion_matrix` is deprecated in 1.0 and will be removed in 1.2. Use one of the class methods: ConfusionMatrixDisplay.from_predictions or ConfusionMatrixDisplay.from_estimator.\n",
      "  warnings.warn(msg, category=FutureWarning)\n"
     ]
    },
    {
     "data": {
      "image/png": "[encoded data removed]",
      "text/plain": [
       "<Figure size 640x480 with 2 Axes>"
      ]
     },
     "metadata": {},
     "output_type": "display_data"
    }
   ],
   "source": [
    "m_confusion2(a_decision2)"
   ]
  },
  {
   "cell_type": "markdown",
   "id": "69f2a0c8",
   "metadata": {},
   "source": [
    "Podemos observar que nuestro modelo logit 2, tiene una mayor precisión que el primero, al excluir 4 variables.  \n",
    "Por otro lado, nuestro modelo de Arbol de Decisión, en ambos modelos tienen una alta precisión."
   ]
  },
  {
   "cell_type": "code",
   "execution_count": 32,
   "id": "c85e8acd",
   "metadata": {},
   "outputs": [
    {
     "name": "stdout",
     "output_type": "stream",
     "text": [
      "Score del modelo logit1 con datos TEST 0.7848101265822784\n",
      "Score del modelo logit2 con datos TEST 0.7468354430379747\n"
     ]
    }
   ],
   "source": [
    "#Comparando los resultados con TEST para modelos LOGIT\n",
    "print(\"Score del modelo logit1 con datos TEST\",logit.score(x_test,y_test))\n",
    "print(\"Score del modelo logit2 con datos TEST\",logit2.score(x2_test,y2_test))"
   ]
  },
  {
   "cell_type": "markdown",
   "id": "0bd93182",
   "metadata": {},
   "source": [
    "Vemos que el primer modelo tiene mayor precisión que el segundo modelo."
   ]
  },
  {
   "cell_type": "code",
   "execution_count": 34,
   "id": "4523841b",
   "metadata": {},
   "outputs": [
    {
     "name": "stdout",
     "output_type": "stream",
     "text": [
      "Score del modelo Arbol de Decision 1 con datos TEST 0.7215189873417721\n",
      "Score del modelo Arbol de Decision 2 con datos TEST 0.7341772151898734\n"
     ]
    }
   ],
   "source": [
    "#Comparando los resultados con TEST para modelos ARBOLES DE DECISION\n",
    "print(\"Score del modelo Arbol de Decision 1 con datos TEST\",a_decision.score(x_test,y_test))\n",
    "print(\"Score del modelo Arbol de Decision 2 con datos TEST\",a_decision2.score(x2_test,y2_test))"
   ]
  },
  {
   "cell_type": "markdown",
   "id": "b669489c",
   "metadata": {},
   "source": [
    "Vemos que el Segundo modelo de Arbol de Decisión tiene mayor precisión con los datos de TEST"
   ]
  },
  {
   "cell_type": "markdown",
   "id": "fce3da75",
   "metadata": {},
   "source": [
    "#### Segun los modelos realizados, el primer modelo logit realizado, tiene mayor precisión que los demas, realizando la prueba con los datos de TEST, es por eso, que tomaremos este modelo para la predicciones de la Diabetes."
   ]
  },
  {
   "cell_type": "markdown",
   "id": "6467217e",
   "metadata": {},
   "source": [
    "**Muchas Gracias**"
   ]
  }
 ],
 "metadata": {
  "kernelspec": {
   "display_name": "Python 3 (ipykernel)",
   "language": "python",
   "name": "python3"
  },
  "language_info": {
   "codemirror_mode": {
    "name": "ipython",
    "version": 3
   },
   "file_extension": ".py",
   "mimetype": "text/x-python",
   "name": "python",
   "nbconvert_exporter": "python",
   "pygments_lexer": "ipython3",
   "version": "3.9.13"
  }
 },
 "nbformat": 4,
 "nbformat_minor": 5
}
